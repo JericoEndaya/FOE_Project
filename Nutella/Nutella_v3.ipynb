{
 "cells": [
  {
   "cell_type": "code",
   "execution_count": 1,
   "id": "f0740ce2-c116-436b-bf17-fa5820af02d1",
   "metadata": {},
   "outputs": [],
   "source": [
    "import pandas as pd\n",
    "import numpy as np\n",
    "import matplotlib.pyplot as plt\n",
    "from statsmodels.tsa.seasonal import seasonal_decompose\n",
    "from statsmodels.tsa.stattools import adfuller\n",
    "from statsmodels.tsa.arima.model import ARIMA\n",
    "from sklearn.metrics import mean_squared_error\n",
    "from math import sqrt"
   ]
  },
  {
   "cell_type": "code",
   "execution_count": 2,
   "id": "9d33e1e8-5e63-4485-a127-5696fce39ab3",
   "metadata": {},
   "outputs": [],
   "source": [
    "foe = pd.read_csv(\"FOE.csv\")"
   ]
  },
  {
   "cell_type": "code",
   "execution_count": 3,
   "id": "2691c2ec-d1d3-4d91-a684-affd00d31da5",
   "metadata": {},
   "outputs": [
    {
     "data": {
      "text/html": [
       "<div>\n",
       "<style scoped>\n",
       "    .dataframe tbody tr th:only-of-type {\n",
       "        vertical-align: middle;\n",
       "    }\n",
       "\n",
       "    .dataframe tbody tr th {\n",
       "        vertical-align: top;\n",
       "    }\n",
       "\n",
       "    .dataframe thead th {\n",
       "        text-align: right;\n",
       "    }\n",
       "</style>\n",
       "<table border=\"1\" class=\"dataframe\">\n",
       "  <thead>\n",
       "    <tr style=\"text-align: right;\">\n",
       "      <th></th>\n",
       "      <th>Date</th>\n",
       "      <th>Open</th>\n",
       "      <th>High</th>\n",
       "      <th>Low</th>\n",
       "      <th>Close</th>\n",
       "      <th>Adj Close</th>\n",
       "      <th>Volume</th>\n",
       "    </tr>\n",
       "  </thead>\n",
       "  <tbody>\n",
       "    <tr>\n",
       "      <th>0</th>\n",
       "      <td>1980-03-17</td>\n",
       "      <td>0.0</td>\n",
       "      <td>2.722222</td>\n",
       "      <td>2.685185</td>\n",
       "      <td>2.685185</td>\n",
       "      <td>1.450476</td>\n",
       "      <td>47925</td>\n",
       "    </tr>\n",
       "    <tr>\n",
       "      <th>1</th>\n",
       "      <td>1980-03-18</td>\n",
       "      <td>0.0</td>\n",
       "      <td>2.703704</td>\n",
       "      <td>2.666667</td>\n",
       "      <td>2.685185</td>\n",
       "      <td>1.450476</td>\n",
       "      <td>77625</td>\n",
       "    </tr>\n",
       "    <tr>\n",
       "      <th>2</th>\n",
       "      <td>1980-03-19</td>\n",
       "      <td>0.0</td>\n",
       "      <td>2.703704</td>\n",
       "      <td>2.666667</td>\n",
       "      <td>2.703704</td>\n",
       "      <td>1.460480</td>\n",
       "      <td>35775</td>\n",
       "    </tr>\n",
       "    <tr>\n",
       "      <th>3</th>\n",
       "      <td>1980-03-20</td>\n",
       "      <td>0.0</td>\n",
       "      <td>2.777778</td>\n",
       "      <td>2.703704</td>\n",
       "      <td>2.722222</td>\n",
       "      <td>1.470483</td>\n",
       "      <td>42525</td>\n",
       "    </tr>\n",
       "    <tr>\n",
       "      <th>4</th>\n",
       "      <td>1980-03-21</td>\n",
       "      <td>0.0</td>\n",
       "      <td>2.777778</td>\n",
       "      <td>2.740741</td>\n",
       "      <td>2.740741</td>\n",
       "      <td>1.480487</td>\n",
       "      <td>37125</td>\n",
       "    </tr>\n",
       "  </tbody>\n",
       "</table>\n",
       "</div>"
      ],
      "text/plain": [
       "         Date  Open      High       Low     Close  Adj Close  Volume\n",
       "0  1980-03-17   0.0  2.722222  2.685185  2.685185   1.450476   47925\n",
       "1  1980-03-18   0.0  2.703704  2.666667  2.685185   1.450476   77625\n",
       "2  1980-03-19   0.0  2.703704  2.666667  2.703704   1.460480   35775\n",
       "3  1980-03-20   0.0  2.777778  2.703704  2.722222   1.470483   42525\n",
       "4  1980-03-21   0.0  2.777778  2.740741  2.740741   1.480487   37125"
      ]
     },
     "execution_count": 3,
     "metadata": {},
     "output_type": "execute_result"
    }
   ],
   "source": [
    "#Taking a look at our data\n",
    "foe.head()"
   ]
  },
  {
   "cell_type": "code",
   "execution_count": 4,
   "id": "de653f21-1471-43b7-bde5-232a254c639e",
   "metadata": {},
   "outputs": [
    {
     "data": {
      "text/html": [
       "<div>\n",
       "<style scoped>\n",
       "    .dataframe tbody tr th:only-of-type {\n",
       "        vertical-align: middle;\n",
       "    }\n",
       "\n",
       "    .dataframe tbody tr th {\n",
       "        vertical-align: top;\n",
       "    }\n",
       "\n",
       "    .dataframe thead th {\n",
       "        text-align: right;\n",
       "    }\n",
       "</style>\n",
       "<table border=\"1\" class=\"dataframe\">\n",
       "  <thead>\n",
       "    <tr style=\"text-align: right;\">\n",
       "      <th></th>\n",
       "      <th>Open</th>\n",
       "      <th>High</th>\n",
       "      <th>Low</th>\n",
       "      <th>Close</th>\n",
       "      <th>Adj Close</th>\n",
       "    </tr>\n",
       "  </thead>\n",
       "  <tbody>\n",
       "    <tr>\n",
       "      <th>count</th>\n",
       "      <td>10590.000000</td>\n",
       "      <td>10590.000000</td>\n",
       "      <td>10590.000000</td>\n",
       "      <td>10590.000000</td>\n",
       "      <td>10590.000000</td>\n",
       "    </tr>\n",
       "    <tr>\n",
       "      <th>mean</th>\n",
       "      <td>13.607281</td>\n",
       "      <td>14.631222</td>\n",
       "      <td>14.240872</td>\n",
       "      <td>14.439353</td>\n",
       "      <td>11.952665</td>\n",
       "    </tr>\n",
       "    <tr>\n",
       "      <th>std</th>\n",
       "      <td>8.521814</td>\n",
       "      <td>7.381201</td>\n",
       "      <td>7.230212</td>\n",
       "      <td>7.309994</td>\n",
       "      <td>6.597625</td>\n",
       "    </tr>\n",
       "    <tr>\n",
       "      <th>min</th>\n",
       "      <td>0.000000</td>\n",
       "      <td>1.010000</td>\n",
       "      <td>0.810000</td>\n",
       "      <td>0.860000</td>\n",
       "      <td>0.860000</td>\n",
       "    </tr>\n",
       "    <tr>\n",
       "      <th>25%</th>\n",
       "      <td>7.072500</td>\n",
       "      <td>7.740000</td>\n",
       "      <td>7.420000</td>\n",
       "      <td>7.611111</td>\n",
       "      <td>5.995661</td>\n",
       "    </tr>\n",
       "    <tr>\n",
       "      <th>50%</th>\n",
       "      <td>14.860000</td>\n",
       "      <td>15.080000</td>\n",
       "      <td>14.666667</td>\n",
       "      <td>14.865000</td>\n",
       "      <td>12.818146</td>\n",
       "    </tr>\n",
       "    <tr>\n",
       "      <th>75%</th>\n",
       "      <td>20.610001</td>\n",
       "      <td>20.847500</td>\n",
       "      <td>20.333332</td>\n",
       "      <td>20.620001</td>\n",
       "      <td>17.534573</td>\n",
       "    </tr>\n",
       "    <tr>\n",
       "      <th>max</th>\n",
       "      <td>30.250000</td>\n",
       "      <td>30.937500</td>\n",
       "      <td>30.000000</td>\n",
       "      <td>30.549999</td>\n",
       "      <td>25.350000</td>\n",
       "    </tr>\n",
       "  </tbody>\n",
       "</table>\n",
       "</div>"
      ],
      "text/plain": [
       "               Open          High           Low         Close     Adj Close\n",
       "count  10590.000000  10590.000000  10590.000000  10590.000000  10590.000000\n",
       "mean      13.607281     14.631222     14.240872     14.439353     11.952665\n",
       "std        8.521814      7.381201      7.230212      7.309994      6.597625\n",
       "min        0.000000      1.010000      0.810000      0.860000      0.860000\n",
       "25%        7.072500      7.740000      7.420000      7.611111      5.995661\n",
       "50%       14.860000     15.080000     14.666667     14.865000     12.818146\n",
       "75%       20.610001     20.847500     20.333332     20.620001     17.534573\n",
       "max       30.250000     30.937500     30.000000     30.549999     25.350000"
      ]
     },
     "execution_count": 4,
     "metadata": {},
     "output_type": "execute_result"
    }
   ],
   "source": [
    "#numerical value summary statistics\n",
    "foe[['Open', 'High', 'Low', 'Close', 'Adj Close']].describe()"
   ]
  },
  {
   "cell_type": "code",
   "execution_count": 5,
   "id": "a35bc1d4",
   "metadata": {},
   "outputs": [
    {
     "data": {
      "text/plain": [
       "Date          object\n",
       "Open         float64\n",
       "High         float64\n",
       "Low          float64\n",
       "Close        float64\n",
       "Adj Close    float64\n",
       "Volume         int64\n",
       "dtype: object"
      ]
     },
     "execution_count": 5,
     "metadata": {},
     "output_type": "execute_result"
    }
   ],
   "source": [
    "foe.dtypes"
   ]
  },
  {
   "cell_type": "code",
   "execution_count": 6,
   "id": "3b9bba36-c51d-4f33-b5d2-d90355020bd3",
   "metadata": {},
   "outputs": [],
   "source": [
    "#converting the Date into datetime\n",
    "foe['Date'] = pd.to_datetime(foe.Date, format='%Y-%m-%d')\n",
    "foe.set_index('Date', inplace=True)"
   ]
  },
  {
   "cell_type": "code",
   "execution_count": 9,
   "id": "0a1176fe-60be-4b30-a605-658c2b56363e",
   "metadata": {},
   "outputs": [],
   "source": [
    "#Five year subset with ontly Date and Close columns\n",
    "foe_sub = pd.DataFrame(foe[['Adj Close']])\n",
    "foe_sub = foe_sub.loc[(foe_sub.index >= '2016-01-01')]"
   ]
  },
  {
   "cell_type": "code",
   "execution_count": 10,
   "id": "9d9f8292",
   "metadata": {},
   "outputs": [
    {
     "data": {
      "text/html": [
       "<div>\n",
       "<style scoped>\n",
       "    .dataframe tbody tr th:only-of-type {\n",
       "        vertical-align: middle;\n",
       "    }\n",
       "\n",
       "    .dataframe tbody tr th {\n",
       "        vertical-align: top;\n",
       "    }\n",
       "\n",
       "    .dataframe thead th {\n",
       "        text-align: right;\n",
       "    }\n",
       "</style>\n",
       "<table border=\"1\" class=\"dataframe\">\n",
       "  <thead>\n",
       "    <tr style=\"text-align: right;\">\n",
       "      <th></th>\n",
       "      <th>Adj Close</th>\n",
       "    </tr>\n",
       "    <tr>\n",
       "      <th>Date</th>\n",
       "      <th></th>\n",
       "    </tr>\n",
       "  </thead>\n",
       "  <tbody>\n",
       "    <tr>\n",
       "      <th>2016-01-04</th>\n",
       "      <td>10.75</td>\n",
       "    </tr>\n",
       "    <tr>\n",
       "      <th>2016-01-05</th>\n",
       "      <td>10.58</td>\n",
       "    </tr>\n",
       "    <tr>\n",
       "      <th>2016-01-06</th>\n",
       "      <td>10.05</td>\n",
       "    </tr>\n",
       "    <tr>\n",
       "      <th>2016-01-07</th>\n",
       "      <td>9.52</td>\n",
       "    </tr>\n",
       "    <tr>\n",
       "      <th>2016-01-08</th>\n",
       "      <td>9.61</td>\n",
       "    </tr>\n",
       "  </tbody>\n",
       "</table>\n",
       "</div>"
      ],
      "text/plain": [
       "            Adj Close\n",
       "Date                 \n",
       "2016-01-04      10.75\n",
       "2016-01-05      10.58\n",
       "2016-01-06      10.05\n",
       "2016-01-07       9.52\n",
       "2016-01-08       9.61"
      ]
     },
     "execution_count": 10,
     "metadata": {},
     "output_type": "execute_result"
    }
   ],
   "source": [
    "foe_sub.head()"
   ]
  },
  {
   "cell_type": "code",
   "execution_count": null,
   "id": "f10e7603-1d78-41b7-9e1d-c845d6caab91",
   "metadata": {},
   "outputs": [],
   "source": [
    "#Average price per month\n",
    "foe_sub.groupby('year').Close.mean().plot.bar()"
   ]
  },
  {
   "cell_type": "code",
   "execution_count": null,
   "id": "ab36bd50-e7ed-4bc9-9a52-2e02e705329d",
   "metadata": {},
   "outputs": [],
   "source": [
    "#function to plot a line graph\n",
    "def line_g(df,x,y,title):\n",
    "    plt.figure(figsize=(16,8))\n",
    "    plt.plot(x, y, \".-\", data = df)\n",
    "    plt.title(title, fontsize = 16)\n",
    "    plt.xlabel(\"Time\", fontsize = 16)\n",
    "    plt.ylabel(\"Closing Price\", fontsize = 16)\n",
    "line_g(foe_sub,'Date', 'Close', \"Daily Closing Price of FOE\")"
   ]
  },
  {
   "cell_type": "code",
   "execution_count": null,
   "id": "049849ed-c503-42df-b82f-9e8f58f037ac",
   "metadata": {},
   "outputs": [],
   "source": [
    "monthly = foe_sub.resample('M').mean()\n",
    "monthly"
   ]
  },
  {
   "cell_type": "code",
   "execution_count": null,
   "id": "c9541ca0-e12c-46f3-8a75-5eac33d73c2b",
   "metadata": {},
   "outputs": [],
   "source": [
    "line_g(monthly, monthly.index, 'Close', \"Average Monthly Closing price of FOE\")"
   ]
  },
  {
   "cell_type": "code",
   "execution_count": null,
   "id": "f1a8ebfd-943e-46de-a042-1f7979a8befb",
   "metadata": {},
   "outputs": [],
   "source": [
    "#monthly subset\n",
    "monthly_sub = monthly.loc[(monthly.index <= '2021-01-01')]\n",
    "len(monthly_sub)"
   ]
  },
  {
   "cell_type": "code",
   "execution_count": null,
   "id": "d2bc0299",
   "metadata": {},
   "outputs": [],
   "source": [
    "monthly_sub.head()"
   ]
  },
  {
   "cell_type": "code",
   "execution_count": null,
   "id": "d0308d40-29a1-4fd4-9064-13d10e085a08",
   "metadata": {},
   "outputs": [],
   "source": [
    "line_g(monthly_sub, monthly_sub.index, 'Close', \"Monthly Closing price of FOE\")"
   ]
  },
  {
   "cell_type": "code",
   "execution_count": null,
   "id": "406bbe5c",
   "metadata": {},
   "outputs": [],
   "source": [
    "#Decompose the time series to check for seasonality\n",
    "decomposition_m = sm.tsa.seasonal_decompose(monthly_sub['Close'], model='multiplicative')\n",
    "fig = decomposition_m.plot()\n",
    "plt.show()"
   ]
  },
  {
   "cell_type": "markdown",
   "id": "454c9936",
   "metadata": {},
   "source": [
    "There is strong evidence of seasonality within the average monthly stock price where there tendency for the price to increase approaching summer and winter. This implies that these are the months the stock performs well which is to be expected as those are when the purchases for sweets are most likely to happen."
   ]
  },
  {
   "cell_type": "code",
   "execution_count": null,
   "id": "e6c5b2b2-e0a8-40b8-ac15-3f71b2ea297d",
   "metadata": {},
   "outputs": [],
   "source": [
    "# DF Test using statsmodels adfuller\n",
    "#this is a test where H0: There is a unit root and the time series is non-stationary / \n",
    "#H1: there is no unit root and the data is stationary. \n",
    "from statsmodels.tsa.stattools import adfuller\n",
    "\n",
    "def df_test(time_series):\n",
    "    \n",
    "    print('Results of Dickey-Fuller Test:')\n",
    "    dftest = adfuller(time_series, autolag = 'AIC')\n",
    "    dfoutput = pd.Series(dftest[0:4], index=['Test Statistic', 'p-value', '#Lags Used', 'Number of Observations Used'])\n",
    "    \n",
    "    for key, value in dftest[4].items():\n",
    "        dfoutput['Critical Value (%s)' %key] = value\n",
    "    \n",
    "    print (dfoutput)\n",
    "df_test(monthly_sub.Close)"
   ]
  },
  {
   "cell_type": "markdown",
   "id": "65d43e76",
   "metadata": {},
   "source": [
    "As the p-value > 0.05, I fail to reject the null hypothesis which means that the data is non-stationary. The next step is to make the data stationary in order to comply with the assumptions of ARIMA. In order to do this, I will use first order differencing."
   ]
  },
  {
   "cell_type": "code",
   "execution_count": null,
   "id": "6ca8e52b",
   "metadata": {},
   "outputs": [],
   "source": [
    "# Differencing\n",
    "monthly_diff = monthly_sub.diff().dropna()\n",
    "df_test(monthly_diff.Close)"
   ]
  },
  {
   "cell_type": "markdown",
   "id": "977d3216",
   "metadata": {},
   "source": [
    "After first order differencing, the ADF test shows that we now have evidence to reject the null hypothesis. In other words, we find no presence of a unit root and therefore the data is stationary. We must now find the best ARIMA parameters."
   ]
  },
  {
   "cell_type": "code",
   "execution_count": null,
   "id": "38c8b6c4",
   "metadata": {},
   "outputs": [],
   "source": [
    "#Using auto_arima, the order and seasonal order is found.\n",
    "from pmdarima import auto_arima\n",
    "\n",
    "foe_arima = auto_arima(monthly_diff.Close, X=None, start_p=0, d=None, start_q=0, max_p=5, max_d=5, max_q=5, start_P=0, D=None, \n",
    "                       start_Q=0, max_P=5, max_D=5, max_Q=5, max_order=5, m=1, seasonal=True, stationary=True, \n",
    "                       information_criterion='aic', alpha=0.05, test='kpss', seasonal_test='ocsb', stepwise=False, \n",
    "                       n_jobs=10, start_params=None, trend=None, method='lbfgs', maxiter=50, offset_test_args=None, \n",
    "                       seasonal_test_args=None, suppress_warnings=True, error_action='trace', trace=False, \n",
    "                       random=False, random_state=None, n_fits=10, return_valid_fits=False, out_of_sample_size=0, \n",
    "                       scoring='mse', scoring_args=None, with_intercept='auto', sarimax_kwargs=None)\n",
    "\n",
    "arima_order = foe_arima.order\n",
    "seasonal_order = foe_arima.seasonal_order\n",
    "\n",
    "print(foe_arima.summary()) #according to the summary, the best model to use for forecast is a SARIMAX model\n",
    "print(\"ARIMA order:\", arima_order)\n",
    "print(\"Seasonal order:\", seasonal_order)"
   ]
  },
  {
   "cell_type": "code",
   "execution_count": null,
   "id": "1827a1b9",
   "metadata": {},
   "outputs": [],
   "source": [
    "#Fit the model\n",
    "from statsmodels.tsa.statespace.sarimax import SARIMAX\n",
    "\n",
    "model = SARIMAX(monthly_diff.Close, order=arima_order, seasonal_order=(0, 0, 0, 12), enforce_stationarity=False, \n",
    "                enforce_invertibility=False)\n",
    "results = model.fit()"
   ]
  },
  {
   "cell_type": "code",
   "execution_count": null,
   "id": "be7cd5d7",
   "metadata": {},
   "outputs": [],
   "source": [
    "results.plot_diagnostics(figsize=(15, 12))\n",
    "plt.show()"
   ]
  },
  {
   "cell_type": "markdown",
   "id": "8105ce28",
   "metadata": {},
   "source": [
    "Looking at the correlogram, time lags of 1 to 10 seems to imply that the monthly average stock price of FOE is stationary and that there seems to be no strong autocorrelation. The closing price also seems to be normally distributed as we can see from both the histogram and the residuals graph. The residuals graph shows no discernable pattern implying that there is no autocorrelation left. I can now use the data for frecasting."
   ]
  },
  {
   "cell_type": "code",
   "execution_count": null,
   "id": "86653079",
   "metadata": {},
   "outputs": [],
   "source": [
    "# forecasting 3 months ahead\n",
    "forecast = results.get_forecast(steps=3)\n",
    "forecast_conf_int = forecast.conf_int()"
   ]
  },
  {
   "cell_type": "code",
   "execution_count": null,
   "id": "906601d9",
   "metadata": {},
   "outputs": [],
   "source": [
    "plt.figure(figsize=(15, 6))\n",
    "plt.plot(monthly_sub.index, monthly_sub['Close'], label='Observed')\n",
    "plt.plot(forecast.predicted_mean.index, forecast.predicted_mean, color='r', label='Forecast')\n",
    "\n",
    "# Plot confidence intervals\n",
    "plt.fill_between(forecast_conf_int.index, forecast_conf_int.iloc[:, 0], forecast_conf_int.iloc[:, 1], color='pink')\n",
    "\n",
    "plt.xlabel('Time')\n",
    "plt.ylabel('Closing Price')\n",
    "plt.legend()\n",
    "plt.show()"
   ]
  }
 ],
 "metadata": {
  "kernelspec": {
   "display_name": "Python 3 (ipykernel)",
   "language": "python",
   "name": "python3"
  },
  "language_info": {
   "codemirror_mode": {
    "name": "ipython",
    "version": 3
   },
   "file_extension": ".py",
   "mimetype": "text/x-python",
   "name": "python",
   "nbconvert_exporter": "python",
   "pygments_lexer": "ipython3",
   "version": "3.9.13"
  }
 },
 "nbformat": 4,
 "nbformat_minor": 5
}
